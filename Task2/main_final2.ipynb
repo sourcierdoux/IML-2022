{
 "cells": [
  {
   "cell_type": "code",
   "execution_count": 1,
   "id": "2f49ba4e",
   "metadata": {},
   "outputs": [],
   "source": [
    "import pandas as pd\n",
    "import numpy as np\n",
    "from sklearn.ensemble import RandomForestClassifier\n",
    "from sklearn.linear_model import Ridge\n",
    "from sklearn.impute import KNNImputer\n",
    "from sklearn.impute import SimpleImputer\n",
    "from imblearn.over_sampling import SMOTE\n",
    "from sklearn.metrics import roc_auc_score\n",
    "\n",
    "\n",
    "def transform_data(dataset):\n",
    "    train1 = dataset[['pid','Age','ABPm','Heartrate','SpO2','ABPs','Temp']].groupby('pid',as_index=False,sort=False).mean()\n",
    "    train2 = dataset[['pid','ABPm','SpO2','Heartrate','ABPs','Temp','BaseExcess']].groupby('pid',as_index=False,sort=False).std()\n",
    "    train3 = dataset[['pid','EtCO2','PTT','BUN','Lactate','Hgb','HCO3','BaseExcess','Fibrinogen','Phosphate','WBC','Creatinine','PaCO2','AST','FiO2','Platelets','SaO2','Glucose','Magnesium','Potassium','Calcium','Alkalinephos','Bilirubin_direct','Chloride','Hct','Bilirubin_total','TroponinI','pH']].drop('pid',1).isna().groupby(dataset.pid,as_index=False,sort=False).sum()\n",
    "    train_features = pd.concat([train1,train2,train3],axis=1)\n",
    "    train_features = train_features.drop(['pid'],axis=1)\n",
    "    imputer = KNNImputer(n_neighbors=5,missing_values=np.nan)\n",
    "    train_features = imputer.fit_transform(train_features)\n",
    "    return train_features"
   ]
  },
  {
   "cell_type": "code",
   "execution_count": 3,
   "id": "5838a950",
   "metadata": {},
   "outputs": [
    {
     "name": "stderr",
     "output_type": "stream",
     "text": [
      "/var/folders/k1/hf4djm2s1klctv2qbryz5kb80000gn/T/ipykernel_40059/3108425677.py:14: FutureWarning: In a future version of pandas all arguments of DataFrame.drop except for the argument 'labels' will be keyword-only.\n",
      "  train3 = dataset[['pid','EtCO2','PTT','BUN','Lactate','Hgb','HCO3','BaseExcess','Fibrinogen','Phosphate','WBC','Creatinine','PaCO2','AST','FiO2','Platelets','SaO2','Glucose','Magnesium','Potassium','Calcium','Alkalinephos','Bilirubin_direct','Chloride','Hct','Bilirubin_total','TroponinI','pH']].drop('pid',1).isna().groupby(dataset.pid,as_index=False,sort=False).sum()\n",
      "/var/folders/k1/hf4djm2s1klctv2qbryz5kb80000gn/T/ipykernel_40059/3108425677.py:14: FutureWarning: In a future version of pandas all arguments of DataFrame.drop except for the argument 'labels' will be keyword-only.\n",
      "  train3 = dataset[['pid','EtCO2','PTT','BUN','Lactate','Hgb','HCO3','BaseExcess','Fibrinogen','Phosphate','WBC','Creatinine','PaCO2','AST','FiO2','Platelets','SaO2','Glucose','Magnesium','Potassium','Calcium','Alkalinephos','Bilirubin_direct','Chloride','Hct','Bilirubin_total','TroponinI','pH']].drop('pid',1).isna().groupby(dataset.pid,as_index=False,sort=False).sum()\n"
     ]
    },
    {
     "data": {
      "text/plain": [
       "(18995, 39)"
      ]
     },
     "execution_count": 3,
     "metadata": {},
     "output_type": "execute_result"
    }
   ],
   "source": [
    "train_features = pd.read_csv('train_features.csv')\n",
    "train_labels = pd.read_csv('train_labels.csv',usecols=['LABEL_BaseExcess', 'LABEL_Fibrinogen', 'LABEL_AST', 'LABEL_Alkalinephos', 'LABEL_Bilirubin_total', 'LABEL_Lactate', 'LABEL_TroponinI', 'LABEL_SaO2', 'LABEL_Bilirubin_direct', 'LABEL_EtCO2','LABEL_Sepsis'])\n",
    "test_features = pd.read_csv('test_features.csv')\n",
    "pid = test_features['pid'].unique()\n",
    "test_features = transform_data(test_features)\n",
    "train_features = pd.DataFrame(transform_data(train_features))\n",
    "train_features.shape"
   ]
  },
  {
   "cell_type": "code",
   "execution_count": 284,
   "id": "fc534e12",
   "metadata": {},
   "outputs": [],
   "source": [
    "out_test = pd.DataFrame()\n",
    "out_test['pid'] = pid\n",
    "y_score = pd.DataFrame()\n",
    "\n",
    "for i in train_labels.columns:\n",
    "    sm = SMOTE()\n",
    "    clf = RandomForestClassifier(n_jobs=-1)\n",
    "    x,y = sm.fit_resample(train_features,train_labels[i])\n",
    "    clf.fit(x,y)\n",
    "    proba_test_features = np.take(clf.predict_proba(test_features),(1),axis=1)\n",
    "    out_test[i] = proba_test_features\n",
    "    \n",
    "labels_3 = pd.read_csv('train_labels.csv',usecols=['LABEL_RRate', 'LABEL_ABPm', 'LABEL_SpO2', 'LABEL_Heartrate'])\n",
    "model = Ridge()\n",
    "out_task3 = pd.DataFrame()\n",
    "for i in labels_3.columns:\n",
    "    x = train_features\n",
    "    y = labels_3[i]\n",
    "    model.fit(x,y)\n",
    "    Y = model.predict(test_features)\n",
    "    out_test[i] = Y\n",
    "    \n",
    "out_test.to_csv('result.zip',index=False,float_format='%.3f',compression='zip')"
   ]
  },
  {
   "cell_type": "code",
   "execution_count": null,
   "id": "b854ce42",
   "metadata": {},
   "outputs": [],
   "source": []
  },
  {
   "cell_type": "code",
   "execution_count": null,
   "id": "bc6a0a65",
   "metadata": {},
   "outputs": [],
   "source": []
  }
 ],
 "metadata": {
  "kernelspec": {
   "display_name": "Python 3 (ipykernel)",
   "language": "python",
   "name": "python3"
  },
  "language_info": {
   "codemirror_mode": {
    "name": "ipython",
    "version": 3
   },
   "file_extension": ".py",
   "mimetype": "text/x-python",
   "name": "python",
   "nbconvert_exporter": "python",
   "pygments_lexer": "ipython3",
   "version": "3.8.13"
  }
 },
 "nbformat": 4,
 "nbformat_minor": 5
}
